{
 "cells": [
  {
   "cell_type": "markdown",
   "id": "cf935b29-e25a-421f-999b-b6fd3d1cc73e",
   "metadata": {},
   "source": [
    "### 시계열 데이터 관련\n",
    "\n",
    "1. datetime library\n",
    "   - datetime, date, time object가 있음\n",
    "   - 메서드 : now(), today(),\n",
    "   - \n",
    "  \n",
    "2. object 이기 때문에 서로 연산할 수 있음\n",
    "\n",
    "3. 문자열을 시계열로 데이터로 바꾸기\n",
    "   1) pd.to_datetime(적용 칼럼, format='%d/%m/%y')   *format은 문자열 구조에 따라서 다양하게 응용\n",
    "   2) pd.read_csv('', parse_dates=적용칼럼) : read_csv에서 datetime 오브젝트로 변환하려는 칼럼 설정하는 옵션 넣기\n",
    "      \n",
    "\n",
    "4. 시간 형식 지정자 : %a, %A, %w, Td, %b, %B, %m, %y, %Y 등 여러가지가 있음\n",
    "\n",
    "5. 날짜 정보 출력하기\n",
    "   1) datetime.datetime 클래스의 메서드 : strftime _ 시간 형식 지정자와 함께 사용되며, 시계열 데이터의 시간 요소 중 일부만을 추출할 수 있음\n",
    "   2) 날짜 정보 저장하는 속성 활용하기 ex) d1[0].year/month/day\n",
    "\n",
    "6. dt 접근자\n",
    "   - dt 접근자를 사용하지 않고 특정 데이터를 접근하는 방법 = 칼럼명 & 인덱스 활용\n",
    "   - 그냥 적용 칼럼 적고 dt.year/month/day 를 활용하는 방식\n",
    "  \n",
    "7. 새로운 날짜 생성 : pd.date_range(start='2014-12-31', end='2015-01-05')\n",
    "\n",
    "   "
   ]
  },
  {
   "cell_type": "code",
   "execution_count": 3,
   "id": "4c76ae70-1408-4e3f-a394-42c6e2e13437",
   "metadata": {},
   "outputs": [
    {
     "name": "stdout",
     "output_type": "stream",
     "text": [
      "2025-03-24 08:07:54.365173\n",
      "2025-03-24 08:07:54.365174\n",
      "2025-03-24 08:07:54.365173\n",
      "1970-01-01 00:00:00\n",
      "1970-12-12 13:24:34\n",
      "20171 days, 8:07:54.365173\n",
      "<class 'datetime.timedelta'>\n",
      "-20172 days, 15:52:05.634827\n",
      "<class 'datetime.timedelta'>\n"
     ]
    }
   ],
   "source": [
    "from datetime import datetime\n",
    "\n",
    "now1 = datetime.now()\n",
    "print(now1)\n",
    "\n",
    "now2 = datetime.today()\n",
    "print(now2)\n",
    "\n",
    "\n",
    "t1 = datetime.now()\n",
    "t2 = datetime(1970, 1,1)\n",
    "t3 = datetime(1970, 12, 12, 13, 24, 34)\n",
    "\n",
    "print(t1)\n",
    "print(t2)\n",
    "print(t3)\n",
    "\n",
    "\n",
    "diff = t1-t2\n",
    "print(diff)\n",
    "print(type(diff))\n",
    "\n",
    "\n",
    "diff2 = t2-t1\n",
    "print(diff2)\n",
    "print(type(diff2))"
   ]
  },
  {
   "cell_type": "code",
   "execution_count": 7,
   "id": "8f3205da-9958-48ed-bad4-9f0eb59fbd04",
   "metadata": {},
   "outputs": [
    {
     "name": "stdout",
     "output_type": "stream",
     "text": [
      "<class 'pandas.core.frame.DataFrame'>\n",
      "RangeIndex: 122 entries, 0 to 121\n",
      "Data columns (total 18 columns):\n",
      " #   Column               Non-Null Count  Dtype  \n",
      "---  ------               --------------  -----  \n",
      " 0   Date                 122 non-null    object \n",
      " 1   Day                  122 non-null    int64  \n",
      " 2   Cases_Guinea         93 non-null     float64\n",
      " 3   Cases_Liberia        83 non-null     float64\n",
      " 4   Cases_SierraLeone    87 non-null     float64\n",
      " 5   Cases_Nigeria        38 non-null     float64\n",
      " 6   Cases_Senegal        25 non-null     float64\n",
      " 7   Cases_UnitedStates   18 non-null     float64\n",
      " 8   Cases_Spain          16 non-null     float64\n",
      " 9   Cases_Mali           12 non-null     float64\n",
      " 10  Deaths_Guinea        92 non-null     float64\n",
      " 11  Deaths_Liberia       81 non-null     float64\n",
      " 12  Deaths_SierraLeone   87 non-null     float64\n",
      " 13  Deaths_Nigeria       38 non-null     float64\n",
      " 14  Deaths_Senegal       22 non-null     float64\n",
      " 15  Deaths_UnitedStates  18 non-null     float64\n",
      " 16  Deaths_Spain         16 non-null     float64\n",
      " 17  Deaths_Mali          12 non-null     float64\n",
      "dtypes: float64(16), int64(1), object(1)\n",
      "memory usage: 17.3+ KB\n",
      "None\n"
     ]
    }
   ],
   "source": [
    "import pandas as pd\n",
    "import os\n",
    "\n",
    "ebola = pd.read_csv(r\"C:\\Users\\rud92\\0.ESAA\\country_timeseries.csv\")\n",
    "\n",
    "print(ebola.info())"
   ]
  },
  {
   "cell_type": "code",
   "execution_count": 11,
   "id": "674a97c9-44ab-40d4-89e0-89c6b201e28a",
   "metadata": {},
   "outputs": [
    {
     "name": "stdout",
     "output_type": "stream",
     "text": [
      "<class 'pandas.core.frame.DataFrame'>\n",
      "RangeIndex: 122 entries, 0 to 121\n",
      "Data columns (total 19 columns):\n",
      " #   Column               Non-Null Count  Dtype         \n",
      "---  ------               --------------  -----         \n",
      " 0   Date                 122 non-null    object        \n",
      " 1   Day                  122 non-null    int64         \n",
      " 2   Cases_Guinea         93 non-null     float64       \n",
      " 3   Cases_Liberia        83 non-null     float64       \n",
      " 4   Cases_SierraLeone    87 non-null     float64       \n",
      " 5   Cases_Nigeria        38 non-null     float64       \n",
      " 6   Cases_Senegal        25 non-null     float64       \n",
      " 7   Cases_UnitedStates   18 non-null     float64       \n",
      " 8   Cases_Spain          16 non-null     float64       \n",
      " 9   Cases_Mali           12 non-null     float64       \n",
      " 10  Deaths_Guinea        92 non-null     float64       \n",
      " 11  Deaths_Liberia       81 non-null     float64       \n",
      " 12  Deaths_SierraLeone   87 non-null     float64       \n",
      " 13  Deaths_Nigeria       38 non-null     float64       \n",
      " 14  Deaths_Senegal       22 non-null     float64       \n",
      " 15  Deaths_UnitedStates  18 non-null     float64       \n",
      " 16  Deaths_Spain         16 non-null     float64       \n",
      " 17  Deaths_Mali          12 non-null     float64       \n",
      " 18  date_dt              122 non-null    datetime64[ns]\n",
      "dtypes: datetime64[ns](1), float64(16), int64(1), object(1)\n",
      "memory usage: 18.2+ KB\n",
      "None\n"
     ]
    }
   ],
   "source": [
    "ebola['date_dt'] = pd.to_datetime(ebola['Date'])\n",
    "print(ebola.info())"
   ]
  },
  {
   "cell_type": "code",
   "execution_count": 16,
   "id": "358cbe33-d01f-43d4-a968-de541593e07f",
   "metadata": {},
   "outputs": [
    {
     "name": "stdout",
     "output_type": "stream",
     "text": [
      "  order_day   date_dt1   date_dt2   date_dt3\n",
      "0  01/01/15 2015-01-01 2015-01-01 2001-01-15\n",
      "1  02/01/15 2015-01-02 2015-02-01 2002-01-15\n",
      "2  03/01/15 2015-01-03 2015-03-01 2003-01-15\n"
     ]
    }
   ],
   "source": [
    "test_df1 = pd.DataFrame({'order_day' : ['01/01/15', '02/01/15', '03/01/15']})\n",
    "\n",
    "test_df1['date_dt1'] = pd.to_datetime(test_df1['order_day'], format='%d/%m/%y')\n",
    "test_df1['date_dt2'] = pd.to_datetime(test_df1['order_day'], format='%m/%d/%y')\n",
    "test_df1['date_dt3'] = pd.to_datetime(test_df1['order_day'], format='%y/%m/%d')\n",
    "\n",
    "print(test_df1)"
   ]
  },
  {
   "cell_type": "code",
   "execution_count": 20,
   "id": "ee8d7a19-f7b0-4dc1-a086-1dde388d9603",
   "metadata": {},
   "outputs": [
    {
     "name": "stdout",
     "output_type": "stream",
     "text": [
      "0   2015-01-01\n",
      "1   2015-01-02\n",
      "2   2015-01-03\n",
      "Name: order_day, dtype: datetime64[ns]\n"
     ]
    }
   ],
   "source": [
    "test_df2 = pd.DataFrame({'order_day': ['01-01-15', '02-01-15', '03-01-15']})\n",
    "test_df2 = pd.to_datetime(test_df2['order_day'], format='%d-%m-%y')\n",
    "print(test_df2)"
   ]
  },
  {
   "cell_type": "code",
   "execution_count": 39,
   "id": "1a01452f-92fc-463f-bc37-2bd6564b38aa",
   "metadata": {},
   "outputs": [
    {
     "name": "stdout",
     "output_type": "stream",
     "text": [
      "2025-03-24 08:22:37.970874\n",
      "<class 'datetime.datetime'>\n"
     ]
    }
   ],
   "source": [
    "now = datetime.now()\n",
    "print(now)\n",
    "print(type(now))"
   ]
  },
  {
   "cell_type": "code",
   "execution_count": 31,
   "id": "18a3afcf-2608-4240-ba77-ff06133c4d75",
   "metadata": {},
   "outputs": [
    {
     "name": "stdout",
     "output_type": "stream",
     "text": [
      "2025-03-24\n"
     ]
    }
   ],
   "source": [
    "nowDate = now.strftime('%Y-%m-%d')\n",
    "print(nowDate)"
   ]
  },
  {
   "cell_type": "code",
   "execution_count": 33,
   "id": "b671ff71-fef8-4037-bd94-57a86a8050d7",
   "metadata": {},
   "outputs": [
    {
     "name": "stdout",
     "output_type": "stream",
     "text": [
      "08:20:26\n"
     ]
    }
   ],
   "source": [
    "nowTime = now.strftime('%H:%M:%S')\n",
    "print(nowTime)"
   ]
  },
  {
   "cell_type": "code",
   "execution_count": 37,
   "id": "ec40c900-1903-4e26-ba3a-427c35571488",
   "metadata": {},
   "outputs": [
    {
     "name": "stdout",
     "output_type": "stream",
     "text": [
      "2025-03-24  08:20:26\n"
     ]
    }
   ],
   "source": [
    "nowDatetime = now.strftime('%Y-%m-%d  %H:%M:%S')\n",
    "print(nowDatetime)"
   ]
  },
  {
   "cell_type": "code",
   "execution_count": 41,
   "id": "567593a8-8385-4e79-9871-e636eb055ef3",
   "metadata": {},
   "outputs": [
    {
     "name": "stdout",
     "output_type": "stream",
     "text": [
      "<class 'pandas.core.frame.DataFrame'>\n",
      "RangeIndex: 122 entries, 0 to 121\n",
      "Data columns (total 18 columns):\n",
      " #   Column               Non-Null Count  Dtype         \n",
      "---  ------               --------------  -----         \n",
      " 0   Date                 122 non-null    datetime64[ns]\n",
      " 1   Day                  122 non-null    int64         \n",
      " 2   Cases_Guinea         93 non-null     float64       \n",
      " 3   Cases_Liberia        83 non-null     float64       \n",
      " 4   Cases_SierraLeone    87 non-null     float64       \n",
      " 5   Cases_Nigeria        38 non-null     float64       \n",
      " 6   Cases_Senegal        25 non-null     float64       \n",
      " 7   Cases_UnitedStates   18 non-null     float64       \n",
      " 8   Cases_Spain          16 non-null     float64       \n",
      " 9   Cases_Mali           12 non-null     float64       \n",
      " 10  Deaths_Guinea        92 non-null     float64       \n",
      " 11  Deaths_Liberia       81 non-null     float64       \n",
      " 12  Deaths_SierraLeone   87 non-null     float64       \n",
      " 13  Deaths_Nigeria       38 non-null     float64       \n",
      " 14  Deaths_Senegal       22 non-null     float64       \n",
      " 15  Deaths_UnitedStates  18 non-null     float64       \n",
      " 16  Deaths_Spain         16 non-null     float64       \n",
      " 17  Deaths_Mali          12 non-null     float64       \n",
      "dtypes: datetime64[ns](1), float64(16), int64(1)\n",
      "memory usage: 17.3 KB\n",
      "None\n"
     ]
    }
   ],
   "source": [
    "ebola1 = pd.read_csv(r\"C:\\Users\\rud92\\0.ESAA\\country_timeseries.csv\", parse_dates=['Date'])\n",
    "print(ebola1.info())"
   ]
  },
  {
   "cell_type": "code",
   "execution_count": 45,
   "id": "b2b8911d-c83e-4cb6-a843-ef57f4994832",
   "metadata": {},
   "outputs": [
    {
     "name": "stdout",
     "output_type": "stream",
     "text": [
      "0   2018-05-16\n",
      "1   2018-05-17\n",
      "2   2018-05-18\n",
      "dtype: datetime64[ns]\n"
     ]
    }
   ],
   "source": [
    "date_series = pd.Series(['2018-05-16', '2018-05-17', '2018-05-18'])\n",
    "d1 = pd.to_datetime(date_series)\n",
    "print(d1)"
   ]
  },
  {
   "cell_type": "code",
   "execution_count": 52,
   "id": "056f2762-31bd-4711-8032-bcbdf092da5b",
   "metadata": {},
   "outputs": [
    {
     "name": "stdout",
     "output_type": "stream",
     "text": [
      "2018\n",
      "5\n",
      "16\n"
     ]
    }
   ],
   "source": [
    "print(d1[0].year)\n",
    "print(d1[0].month)\n",
    "print(d1[0].day)"
   ]
  },
  {
   "cell_type": "code",
   "execution_count": 54,
   "id": "b6068e41-42f0-4b6c-9307-9460d680660a",
   "metadata": {},
   "outputs": [],
   "source": [
    "ebola = pd.read_csv(r\"C:\\Users\\rud92\\0.ESAA\\country_timeseries.csv\", parse_dates=['Date'])\n",
    "ebola['date_dt'] = pd.to_datetime(ebola['Date'])"
   ]
  },
  {
   "cell_type": "code",
   "execution_count": 56,
   "id": "8adce074-4bfd-41bb-be44-91761adb816d",
   "metadata": {},
   "outputs": [
    {
     "name": "stdout",
     "output_type": "stream",
     "text": [
      "        Date    date_dt\n",
      "0 2015-01-05 2015-01-05\n",
      "1 2015-01-04 2015-01-04\n",
      "2 2015-01-03 2015-01-03\n",
      "3 2015-01-02 2015-01-02\n",
      "4 2014-12-31 2014-12-31\n"
     ]
    }
   ],
   "source": [
    "print(ebola[['Date', 'date_dt']].head())"
   ]
  },
  {
   "cell_type": "code",
   "execution_count": 64,
   "id": "3b568b96-0801-442f-95e9-6fd8e9f865b8",
   "metadata": {},
   "outputs": [
    {
     "name": "stdout",
     "output_type": "stream",
     "text": [
      "2015\n",
      "1\n",
      "2\n"
     ]
    }
   ],
   "source": [
    "print(ebola['date_dt'][3].year)\n",
    "print(ebola['date_dt'][3].month)\n",
    "print(ebola['date_dt'][3].day)\n",
    "\n",
    "##dt 접근자를 사용하지 않고 특정 데이터를 접근하는 방법 = 칼럼명 & 인덱스 활용"
   ]
  },
  {
   "cell_type": "code",
   "execution_count": 66,
   "id": "a428f00f-a3ea-4dce-b4b9-3b813c348d5f",
   "metadata": {},
   "outputs": [
    {
     "name": "stdout",
     "output_type": "stream",
     "text": [
      "        Date    date_dt  year\n",
      "0 2015-01-05 2015-01-05  2015\n",
      "1 2015-01-04 2015-01-04  2015\n",
      "2 2015-01-03 2015-01-03  2015\n",
      "3 2015-01-02 2015-01-02  2015\n",
      "4 2014-12-31 2014-12-31  2014\n"
     ]
    }
   ],
   "source": [
    "ebola['year'] = ebola['date_dt'].dt.year\n",
    "print(ebola[['Date', 'date_dt','year']].head())"
   ]
  },
  {
   "cell_type": "code",
   "execution_count": 70,
   "id": "e9bb3185-d079-4bf2-8e68-2e5870902774",
   "metadata": {},
   "outputs": [
    {
     "name": "stdout",
     "output_type": "stream",
     "text": [
      "        Date    date_dt  year  month  day\n",
      "0 2015-01-05 2015-01-05  2015      1    5\n",
      "1 2015-01-04 2015-01-04  2015      1    4\n",
      "2 2015-01-03 2015-01-03  2015      1    3\n",
      "3 2015-01-02 2015-01-02  2015      1    2\n",
      "4 2014-12-31 2014-12-31  2014     12   31\n"
     ]
    }
   ],
   "source": [
    "ebola['month'], ebola['day'] = (ebola['date_dt'].dt.month, ebola['date_dt'].dt.day)\n",
    "print(ebola[['Date', 'date_dt','year', 'month', 'day']].head())"
   ]
  },
  {
   "cell_type": "code",
   "execution_count": 77,
   "id": "47283151-5f95-450e-98d9-cfbd88c46927",
   "metadata": {},
   "outputs": [
    {
     "name": "stdout",
     "output_type": "stream",
     "text": [
      "<class 'pandas.core.frame.DataFrame'>\n",
      "RangeIndex: 122 entries, 0 to 121\n",
      "Data columns (total 22 columns):\n",
      " #   Column               Non-Null Count  Dtype         \n",
      "---  ------               --------------  -----         \n",
      " 0   Date                 122 non-null    datetime64[ns]\n",
      " 1   Day                  122 non-null    int64         \n",
      " 2   Cases_Guinea         93 non-null     float64       \n",
      " 3   Cases_Liberia        83 non-null     float64       \n",
      " 4   Cases_SierraLeone    87 non-null     float64       \n",
      " 5   Cases_Nigeria        38 non-null     float64       \n",
      " 6   Cases_Senegal        25 non-null     float64       \n",
      " 7   Cases_UnitedStates   18 non-null     float64       \n",
      " 8   Cases_Spain          16 non-null     float64       \n",
      " 9   Cases_Mali           12 non-null     float64       \n",
      " 10  Deaths_Guinea        92 non-null     float64       \n",
      " 11  Deaths_Liberia       81 non-null     float64       \n",
      " 12  Deaths_SierraLeone   87 non-null     float64       \n",
      " 13  Deaths_Nigeria       38 non-null     float64       \n",
      " 14  Deaths_Senegal       22 non-null     float64       \n",
      " 15  Deaths_UnitedStates  18 non-null     float64       \n",
      " 16  Deaths_Spain         16 non-null     float64       \n",
      " 17  Deaths_Mali          12 non-null     float64       \n",
      " 18  date_dt              122 non-null    datetime64[ns]\n",
      " 19  year                 122 non-null    int32         \n",
      " 20  month                122 non-null    int32         \n",
      " 21  day                  122 non-null    int32         \n",
      "dtypes: datetime64[ns](2), float64(16), int32(3), int64(1)\n",
      "memory usage: 19.7 KB\n",
      "None\n"
     ]
    }
   ],
   "source": [
    "print(ebola.info())"
   ]
  },
  {
   "cell_type": "code",
   "execution_count": 87,
   "id": "b010b109-e357-4d77-bac6-487b091d63e0",
   "metadata": {},
   "outputs": [
    {
     "name": "stdout",
     "output_type": "stream",
     "text": [
      "          Date  Day  Cases_Guinea  Cases_Liberia  Cases_SierraLeone\n",
      "117 2014-03-27    5         103.0            8.0                6.0\n",
      "118 2014-03-26    4          86.0            NaN                NaN\n",
      "119 2014-03-25    3          86.0            NaN                NaN\n",
      "120 2014-03-24    2          86.0            NaN                NaN\n",
      "121 2014-03-22    0          49.0            NaN                NaN\n"
     ]
    }
   ],
   "source": [
    "print(ebola.iloc[-5:, :5])                                             ## 마지막 행과 열을 5개씩 체크    ## 데이터가 역순으로 정리돼 있기 때문 "
   ]
  },
  {
   "cell_type": "code",
   "execution_count": 89,
   "id": "316e6ecd-251c-4d8b-b1d2-d057f43b3d05",
   "metadata": {},
   "outputs": [
    {
     "name": "stdout",
     "output_type": "stream",
     "text": [
      "2014-03-22 00:00:00\n",
      "<class 'pandas._libs.tslibs.timestamps.Timestamp'>\n"
     ]
    }
   ],
   "source": [
    "print(ebola['date_dt'].min())\n",
    "print(type(ebola['date_dt'].min()))                       ## 에볼라의 최초 발병일 체크"
   ]
  },
  {
   "cell_type": "code",
   "execution_count": 93,
   "id": "8dde17e4-cccc-4393-a8e0-abdd6062a7e7",
   "metadata": {},
   "outputs": [
    {
     "name": "stdout",
     "output_type": "stream",
     "text": [
      "        Date  Day outbreak_d\n",
      "0 2015-01-05  289   289 days\n",
      "1 2015-01-04  288   288 days\n",
      "2 2015-01-03  287   287 days\n",
      "3 2015-01-02  286   286 days\n",
      "4 2014-12-31  284   284 days\n"
     ]
    }
   ],
   "source": [
    "ebola['outbreak_d'] = ebola['date_dt'] - ebola['date_dt'].min()\n",
    "print(ebola[['Date', 'Day', 'outbreak_d']].head())"
   ]
  },
  {
   "cell_type": "code",
   "execution_count": 95,
   "id": "4b22c0c5-3d47-49ba-af0a-e3b9dc58e93f",
   "metadata": {},
   "outputs": [
    {
     "name": "stdout",
     "output_type": "stream",
     "text": [
      "                                           Bank Name         City  ST   CERT  \\\n",
      "0                Washington Federal Bank for Savings      Chicago  IL  30570   \n",
      "1    The Farmers and Merchants State Bank of Argonia      Argonia  KS  17719   \n",
      "2                                Fayette County Bank   Saint Elmo  IL   1802   \n",
      "3  Guaranty Bank, (d/b/a BestBank in Georgia & Mi...    Milwaukee  WI  30003   \n",
      "4                                     First NBC Bank  New Orleans  LA  58302   \n",
      "\n",
      "                 Acquiring Institution Closing Date Updated Date  \n",
      "0                   Royal Savings Bank    15-Dec-17    20-Dec-17  \n",
      "1                          Conway Bank    13-Oct-17    20-Oct-17  \n",
      "2            United Fidelity Bank, fsb    26-May-17    26-Jul-17  \n",
      "3  First-Citizens Bank & Trust Company     5-May-17    26-Jul-17  \n",
      "4                         Whitney Bank    28-Apr-17     5-Dec-17  \n"
     ]
    }
   ],
   "source": [
    "banks = pd.read_csv(r\"C:\\Users\\rud92\\0.ESAA\\banklist.csv\")\n",
    "print(banks.head())"
   ]
  },
  {
   "cell_type": "code",
   "execution_count": 97,
   "id": "806d2fe2-0590-4c9d-b716-5fba93e9229a",
   "metadata": {},
   "outputs": [
    {
     "name": "stdout",
     "output_type": "stream",
     "text": [
      "<class 'pandas.core.frame.DataFrame'>\n",
      "RangeIndex: 555 entries, 0 to 554\n",
      "Data columns (total 7 columns):\n",
      " #   Column                 Non-Null Count  Dtype \n",
      "---  ------                 --------------  ----- \n",
      " 0   Bank Name              555 non-null    object\n",
      " 1   City                   555 non-null    object\n",
      " 2   ST                     555 non-null    object\n",
      " 3   CERT                   555 non-null    int64 \n",
      " 4   Acquiring Institution  555 non-null    object\n",
      " 5   Closing Date           555 non-null    object\n",
      " 6   Updated Date           555 non-null    object\n",
      "dtypes: int64(1), object(6)\n",
      "memory usage: 30.5+ KB\n",
      "None\n"
     ]
    }
   ],
   "source": [
    "banks_no_dates = pd.read_csv(r\"C:\\Users\\rud92\\0.ESAA\\banklist.csv\")\n",
    "print(banks_no_dates.info())"
   ]
  },
  {
   "cell_type": "code",
   "execution_count": 101,
   "id": "4fe0808a-5928-452a-a6b4-ae3090ce81e3",
   "metadata": {},
   "outputs": [
    {
     "name": "stdout",
     "output_type": "stream",
     "text": [
      "<class 'pandas.core.frame.DataFrame'>\n",
      "RangeIndex: 555 entries, 0 to 554\n",
      "Data columns (total 7 columns):\n",
      " #   Column                 Non-Null Count  Dtype         \n",
      "---  ------                 --------------  -----         \n",
      " 0   Bank Name              555 non-null    object        \n",
      " 1   City                   555 non-null    object        \n",
      " 2   ST                     555 non-null    object        \n",
      " 3   CERT                   555 non-null    int64         \n",
      " 4   Acquiring Institution  555 non-null    object        \n",
      " 5   Closing Date           555 non-null    datetime64[ns]\n",
      " 6   Updated Date           555 non-null    datetime64[ns]\n",
      "dtypes: datetime64[ns](2), int64(1), object(4)\n",
      "memory usage: 30.5+ KB\n",
      "None\n"
     ]
    },
    {
     "name": "stderr",
     "output_type": "stream",
     "text": [
      "C:\\Users\\rud92\\AppData\\Local\\Temp\\ipykernel_1768\\3014458039.py:1: UserWarning: Could not infer format, so each element will be parsed individually, falling back to `dateutil`. To ensure parsing is consistent and as-expected, please specify a format.\n",
      "  banks = pd.read_csv(r\"C:\\Users\\rud92\\0.ESAA\\banklist.csv\", parse_dates=[5,6])        ##칼럼 위치를 인덱스 사용해 지정 가능\n",
      "C:\\Users\\rud92\\AppData\\Local\\Temp\\ipykernel_1768\\3014458039.py:1: UserWarning: Could not infer format, so each element will be parsed individually, falling back to `dateutil`. To ensure parsing is consistent and as-expected, please specify a format.\n",
      "  banks = pd.read_csv(r\"C:\\Users\\rud92\\0.ESAA\\banklist.csv\", parse_dates=[5,6])        ##칼럼 위치를 인덱스 사용해 지정 가능\n"
     ]
    }
   ],
   "source": [
    "banks = pd.read_csv(r\"C:\\Users\\rud92\\0.ESAA\\banklist.csv\", parse_dates=[5,6])        ##칼럼 위치를 인덱스 사용해 지정 가능\n",
    "print(banks.info())"
   ]
  },
  {
   "cell_type": "code",
   "execution_count": 109,
   "id": "e81fcc36-88e8-4906-b77f-2cc8c3607786",
   "metadata": {},
   "outputs": [
    {
     "name": "stdout",
     "output_type": "stream",
     "text": [
      "                                           Bank Name         City  ST   CERT  \\\n",
      "0                Washington Federal Bank for Savings      Chicago  IL  30570   \n",
      "1    The Farmers and Merchants State Bank of Argonia      Argonia  KS  17719   \n",
      "2                                Fayette County Bank   Saint Elmo  IL   1802   \n",
      "3  Guaranty Bank, (d/b/a BestBank in Georgia & Mi...    Milwaukee  WI  30003   \n",
      "4                                     First NBC Bank  New Orleans  LA  58302   \n",
      "\n",
      "                 Acquiring Institution Closing Date Updated Date  \\\n",
      "0                   Royal Savings Bank   2017-12-15   2017-12-20   \n",
      "1                          Conway Bank   2017-10-13   2017-10-20   \n",
      "2            United Fidelity Bank, fsb   2017-05-26   2017-07-26   \n",
      "3  First-Citizens Bank & Trust Company   2017-05-05   2017-07-26   \n",
      "4                         Whitney Bank   2017-04-28   2017-12-05   \n",
      "\n",
      "   closing_quarter  closing_year  \n",
      "0                4          2017  \n",
      "1                4          2017  \n",
      "2                2          2017  \n",
      "3                2          2017  \n",
      "4                2          2017  \n"
     ]
    }
   ],
   "source": [
    "banks['closing_quarter'], banks['closing_year'] = (banks['Closing Date'].dt.quarter, banks['Closing Date'].dt.year)\n",
    "print(banks.head())"
   ]
  },
  {
   "cell_type": "code",
   "execution_count": 115,
   "id": "2ddc066d-ed4c-469d-846a-4ba143eb06aa",
   "metadata": {},
   "outputs": [
    {
     "name": "stdout",
     "output_type": "stream",
     "text": [
      "closing_year\n",
      "2000      2\n",
      "2001      4\n",
      "2002     11\n",
      "2003      3\n",
      "2004      4\n",
      "2007      3\n",
      "2008     25\n",
      "2009    140\n",
      "2010    157\n",
      "2011     92\n",
      "2012     51\n",
      "2013     24\n",
      "2014     18\n",
      "2015      8\n",
      "2016      5\n",
      "2017      8\n",
      "dtype: int64\n"
     ]
    }
   ],
   "source": [
    "closing_year = banks.groupby(['closing_year']).size()\n",
    "print(closing_year)"
   ]
  },
  {
   "cell_type": "code",
   "execution_count": 121,
   "id": "585fb9ff-c976-44a3-96d4-0575f20ad4bf",
   "metadata": {},
   "outputs": [
    {
     "name": "stdout",
     "output_type": "stream",
     "text": [
      "closing_year  closing_quarter\n",
      "2000          4                   2\n",
      "2001          1                   1\n",
      "              2                   1\n",
      "              3                   2\n",
      "2002          1                   6\n",
      "              2                   2\n",
      "              3                   1\n",
      "              4                   2\n",
      "2003          1                   1\n",
      "              2                   1\n",
      "              4                   1\n",
      "2004          1                   3\n",
      "              2                   1\n",
      "2007          1                   1\n",
      "              3                   1\n",
      "              4                   1\n",
      "2008          1                   2\n",
      "              2                   2\n",
      "              3                   9\n",
      "              4                  12\n",
      "2009          1                  21\n",
      "              2                  24\n",
      "              3                  50\n",
      "              4                  45\n",
      "2010          1                  41\n",
      "              2                  45\n",
      "              3                  41\n",
      "              4                  30\n",
      "2011          1                  26\n",
      "              2                  22\n",
      "              3                  26\n",
      "              4                  18\n",
      "2012          1                  16\n",
      "              2                  15\n",
      "              3                  12\n",
      "              4                   8\n",
      "2013          1                   4\n",
      "              2                  12\n",
      "              3                   6\n",
      "              4                   2\n",
      "2014          1                   5\n",
      "              2                   7\n",
      "              3                   2\n",
      "              4                   4\n",
      "2015          1                   4\n",
      "              2                   1\n",
      "              3                   1\n",
      "              4                   2\n",
      "2016          1                   1\n",
      "              2                   2\n",
      "              3                   2\n",
      "2017          1                   3\n",
      "              2                   3\n",
      "              4                   2\n",
      "dtype: int64\n"
     ]
    }
   ],
   "source": [
    "closing_year_q = banks.groupby(['closing_year', 'closing_quarter']).size()\n",
    "print(closing_year_q)"
   ]
  },
  {
   "cell_type": "code",
   "execution_count": 125,
   "id": "3771826c-6743-438e-ac1b-c3423a63daf6",
   "metadata": {},
   "outputs": [
    {
     "data": {
      "image/png": "[encoded data removed]",
      "text/plain": [
       "<Figure size 640x480 with 1 Axes>"
      ]
     },
     "metadata": {},
     "output_type": "display_data"
    },
    {
     "data": {
      "image/png": "[encoded data removed]",
      "text/plain": [
       "<Figure size 640x480 with 1 Axes>"
      ]
     },
     "metadata": {},
     "output_type": "display_data"
    }
   ],
   "source": [
    "import matplotlib.pyplot as plt\n",
    "\n",
    "fig, ax = plt.subplots()\n",
    "ax = closing_year.plot()\n",
    "plt.show()\n",
    "\n",
    "fig, ax = plt.subplots()\n",
    "ax = closing_year_q.plot()\n",
    "plt.show()"
   ]
  },
  {
   "cell_type": "code",
   "execution_count": 129,
   "id": "bd4ee24c-e46b-48b3-b2d6-bafc836a9ae5",
   "metadata": {},
   "outputs": [
    {
     "name": "stdout",
     "output_type": "stream",
     "text": [
      "         Date    Open    High     Low   Close      Volume  ExDividend  \\\n",
      "0  2018-03-27  304.00  304.27  277.18  279.18  13696168.0         0.0   \n",
      "1  2018-03-26  307.34  307.59  291.36  304.18   8324639.0         0.0   \n",
      "2  2018-03-23  311.25  311.61  300.45  301.54   6600538.0         0.0   \n",
      "3  2018-03-22  313.89  318.82  308.18  309.10   4914307.0         0.0   \n",
      "4  2018-03-21  310.25  322.44  310.19  316.53   5927881.0         0.0   \n",
      "\n",
      "   SplitRatio  AdjOpen  AdjHigh  AdjLow  AdjClose   AdjVolume  \n",
      "0         1.0   304.00   304.27  277.18    279.18  13696168.0  \n",
      "1         1.0   307.34   307.59  291.36    304.18   8324639.0  \n",
      "2         1.0   311.25   311.61  300.45    301.54   6600538.0  \n",
      "3         1.0   313.89   318.82  308.18    309.10   4914307.0  \n",
      "4         1.0   310.25   322.44  310.19    316.53   5927881.0  \n"
     ]
    }
   ],
   "source": [
    "##테슬라 데이터 시간 계산\n",
    "\n",
    "##pip install pandas-datareader\n",
    "\n",
    "pd.core.common.is_list_libe = pd.api.types.is_list_like\n",
    "import pandas_datareader as pdr\n",
    "\n",
    "##tesla = pdr.get_data_quandl('TSLA', api_key = 'F2nUZpvYK34n3T5yMgXD')\n",
    "##tesla.to_csv(\"C:\\\\Users\\\\rud92\\\\0.ESAA\\\\tesla_stock_quandl.csv\")\n",
    "\n",
    "tesla = pd.read_csv(\"C:\\\\Users\\\\rud92\\\\0.ESAA\\\\tesla_stock_quandl.csv\")\n",
    "print(tesla.head())"
   ]
  },
  {
   "cell_type": "code",
   "execution_count": 133,
   "id": "dc406e15-bfbb-4aa5-a469-4ccaebd619ee",
   "metadata": {},
   "outputs": [
    {
     "name": "stdout",
     "output_type": "stream",
     "text": [
      "<class 'pandas.core.frame.DataFrame'>\n",
      "RangeIndex: 1949 entries, 0 to 1948\n",
      "Data columns (total 13 columns):\n",
      " #   Column      Non-Null Count  Dtype         \n",
      "---  ------      --------------  -----         \n",
      " 0   Date        1949 non-null   datetime64[ns]\n",
      " 1   Open        1949 non-null   float64       \n",
      " 2   High        1949 non-null   float64       \n",
      " 3   Low         1949 non-null   float64       \n",
      " 4   Close       1949 non-null   float64       \n",
      " 5   Volume      1949 non-null   float64       \n",
      " 6   ExDividend  1949 non-null   float64       \n",
      " 7   SplitRatio  1949 non-null   float64       \n",
      " 8   AdjOpen     1949 non-null   float64       \n",
      " 9   AdjHigh     1949 non-null   float64       \n",
      " 10  AdjLow      1949 non-null   float64       \n",
      " 11  AdjClose    1949 non-null   float64       \n",
      " 12  AdjVolume   1949 non-null   float64       \n",
      "dtypes: datetime64[ns](1), float64(12)\n",
      "memory usage: 198.1 KB\n",
      "None\n"
     ]
    }
   ],
   "source": [
    "tesla = pd.read_csv(\"C:\\\\Users\\\\rud92\\\\0.ESAA\\\\tesla_stock_quandl.csv\", parse_dates=[0])\n",
    "print(tesla.info())"
   ]
  },
  {
   "cell_type": "code",
   "execution_count": 135,
   "id": "12e66da6-2aab-4a00-a196-205a37a1c653",
   "metadata": {},
   "outputs": [
    {
     "name": "stdout",
     "output_type": "stream",
     "text": [
      "           Date   Open     High    Low  Close      Volume  ExDividend  \\\n",
      "1947 2010-06-30  25.79  30.4192  23.30  23.83  17187100.0         0.0   \n",
      "1948 2010-06-29  19.00  25.0000  17.54  23.89  18766300.0         0.0   \n",
      "\n",
      "      SplitRatio  AdjOpen  AdjHigh  AdjLow  AdjClose   AdjVolume  \n",
      "1947         1.0    25.79  30.4192   23.30     23.83  17187100.0  \n",
      "1948         1.0    19.00  25.0000   17.54     23.89  18766300.0  \n"
     ]
    }
   ],
   "source": [
    "print(tesla.loc[(tesla.Date.dt.year == 2010) & (tesla.Date.dt.month == 6)])\n"
   ]
  },
  {
   "cell_type": "code",
   "execution_count": 145,
   "id": "72825eb6-cd67-423e-a8bd-4d6a6044b325",
   "metadata": {},
   "outputs": [
    {
     "name": "stdout",
     "output_type": "stream",
     "text": [
      "DatetimeIndex(['2018-03-27', '2018-03-26', '2018-03-23', '2018-03-22',\n",
      "               '2018-03-21', '2018-03-20', '2018-03-19', '2018-03-16',\n",
      "               '2018-03-15', '2018-03-14',\n",
      "               ...\n",
      "               '2010-07-13', '2010-07-12', '2010-07-09', '2010-07-08',\n",
      "               '2010-07-07', '2010-07-06', '2010-07-02', '2010-07-01',\n",
      "               '2010-06-30', '2010-06-29'],\n",
      "              dtype='datetime64[ns]', name='Date', length=1949, freq=None)\n"
     ]
    },
    {
     "data": {
      "text/html": [
       "<div>\n",
       "<style scoped>\n",
       "    .dataframe tbody tr th:only-of-type {\n",
       "        vertical-align: middle;\n",
       "    }\n",
       "\n",
       "    .dataframe tbody tr th {\n",
       "        vertical-align: top;\n",
       "    }\n",
       "\n",
       "    .dataframe thead th {\n",
       "        text-align: right;\n",
       "    }\n",
       "</style>\n",
       "<table border=\"1\" class=\"dataframe\">\n",
       "  <thead>\n",
       "    <tr style=\"text-align: right;\">\n",
       "      <th></th>\n",
       "      <th>Date</th>\n",
       "      <th>Open</th>\n",
       "      <th>High</th>\n",
       "      <th>Low</th>\n",
       "      <th>Close</th>\n",
       "      <th>Volume</th>\n",
       "      <th>ExDividend</th>\n",
       "      <th>SplitRatio</th>\n",
       "      <th>AdjOpen</th>\n",
       "      <th>AdjHigh</th>\n",
       "      <th>AdjLow</th>\n",
       "      <th>AdjClose</th>\n",
       "      <th>AdjVolume</th>\n",
       "    </tr>\n",
       "    <tr>\n",
       "      <th>Date</th>\n",
       "      <th></th>\n",
       "      <th></th>\n",
       "      <th></th>\n",
       "      <th></th>\n",
       "      <th></th>\n",
       "      <th></th>\n",
       "      <th></th>\n",
       "      <th></th>\n",
       "      <th></th>\n",
       "      <th></th>\n",
       "      <th></th>\n",
       "      <th></th>\n",
       "      <th></th>\n",
       "    </tr>\n",
       "  </thead>\n",
       "  <tbody>\n",
       "    <tr>\n",
       "      <th>2018-03-27</th>\n",
       "      <td>2018-03-27</td>\n",
       "      <td>304.00</td>\n",
       "      <td>304.27</td>\n",
       "      <td>277.18</td>\n",
       "      <td>279.18</td>\n",
       "      <td>13696168.0</td>\n",
       "      <td>0.0</td>\n",
       "      <td>1.0</td>\n",
       "      <td>304.00</td>\n",
       "      <td>304.27</td>\n",
       "      <td>277.18</td>\n",
       "      <td>279.18</td>\n",
       "      <td>13696168.0</td>\n",
       "    </tr>\n",
       "    <tr>\n",
       "      <th>2018-03-26</th>\n",
       "      <td>2018-03-26</td>\n",
       "      <td>307.34</td>\n",
       "      <td>307.59</td>\n",
       "      <td>291.36</td>\n",
       "      <td>304.18</td>\n",
       "      <td>8324639.0</td>\n",
       "      <td>0.0</td>\n",
       "      <td>1.0</td>\n",
       "      <td>307.34</td>\n",
       "      <td>307.59</td>\n",
       "      <td>291.36</td>\n",
       "      <td>304.18</td>\n",
       "      <td>8324639.0</td>\n",
       "    </tr>\n",
       "    <tr>\n",
       "      <th>2018-03-23</th>\n",
       "      <td>2018-03-23</td>\n",
       "      <td>311.25</td>\n",
       "      <td>311.61</td>\n",
       "      <td>300.45</td>\n",
       "      <td>301.54</td>\n",
       "      <td>6600538.0</td>\n",
       "      <td>0.0</td>\n",
       "      <td>1.0</td>\n",
       "      <td>311.25</td>\n",
       "      <td>311.61</td>\n",
       "      <td>300.45</td>\n",
       "      <td>301.54</td>\n",
       "      <td>6600538.0</td>\n",
       "    </tr>\n",
       "    <tr>\n",
       "      <th>2018-03-22</th>\n",
       "      <td>2018-03-22</td>\n",
       "      <td>313.89</td>\n",
       "      <td>318.82</td>\n",
       "      <td>308.18</td>\n",
       "      <td>309.10</td>\n",
       "      <td>4914307.0</td>\n",
       "      <td>0.0</td>\n",
       "      <td>1.0</td>\n",
       "      <td>313.89</td>\n",
       "      <td>318.82</td>\n",
       "      <td>308.18</td>\n",
       "      <td>309.10</td>\n",
       "      <td>4914307.0</td>\n",
       "    </tr>\n",
       "    <tr>\n",
       "      <th>2018-03-21</th>\n",
       "      <td>2018-03-21</td>\n",
       "      <td>310.25</td>\n",
       "      <td>322.44</td>\n",
       "      <td>310.19</td>\n",
       "      <td>316.53</td>\n",
       "      <td>5927881.0</td>\n",
       "      <td>0.0</td>\n",
       "      <td>1.0</td>\n",
       "      <td>310.25</td>\n",
       "      <td>322.44</td>\n",
       "      <td>310.19</td>\n",
       "      <td>316.53</td>\n",
       "      <td>5927881.0</td>\n",
       "    </tr>\n",
       "  </tbody>\n",
       "</table>\n",
       "</div>"
      ],
      "text/plain": [
       "                 Date    Open    High     Low   Close      Volume  ExDividend  \\\n",
       "Date                                                                            \n",
       "2018-03-27 2018-03-27  304.00  304.27  277.18  279.18  13696168.0         0.0   \n",
       "2018-03-26 2018-03-26  307.34  307.59  291.36  304.18   8324639.0         0.0   \n",
       "2018-03-23 2018-03-23  311.25  311.61  300.45  301.54   6600538.0         0.0   \n",
       "2018-03-22 2018-03-22  313.89  318.82  308.18  309.10   4914307.0         0.0   \n",
       "2018-03-21 2018-03-21  310.25  322.44  310.19  316.53   5927881.0         0.0   \n",
       "\n",
       "            SplitRatio  AdjOpen  AdjHigh  AdjLow  AdjClose   AdjVolume  \n",
       "Date                                                                    \n",
       "2018-03-27         1.0   304.00   304.27  277.18    279.18  13696168.0  \n",
       "2018-03-26         1.0   307.34   307.59  291.36    304.18   8324639.0  \n",
       "2018-03-23         1.0   311.25   311.61  300.45    301.54   6600538.0  \n",
       "2018-03-22         1.0   313.89   318.82  308.18    309.10   4914307.0  \n",
       "2018-03-21         1.0   310.25   322.44  310.19    316.53   5927881.0  "
      ]
     },
     "execution_count": 145,
     "metadata": {},
     "output_type": "execute_result"
    }
   ],
   "source": [
    "tesla.index = tesla['Date']\n",
    "print(tesla.index)    ## 날짜를 인덱스로 설정함\n",
    "tesla.head()"
   ]
  },
  {
   "cell_type": "code",
   "execution_count": 141,
   "id": "377cf3c5-d4a5-42e5-8c46-81ae0bcb45be",
   "metadata": {},
   "outputs": [
    {
     "name": "stdout",
     "output_type": "stream",
     "text": [
      "                 Date    Open     High       Low   Close\n",
      "Date                                                    \n",
      "2015-12-31 2015-12-31  238.51  243.450  238.3700  240.01\n",
      "2015-12-30 2015-12-30  236.60  243.634  235.6707  238.09\n",
      "2015-12-29 2015-12-29  230.06  237.720  229.5470  237.19\n",
      "2015-12-28 2015-12-28  231.49  231.980  225.5400  228.95\n",
      "2015-12-24 2015-12-24  230.56  231.880  228.2800  230.57\n"
     ]
    }
   ],
   "source": [
    "print(tesla.loc['2015'].iloc[:5, :5])"
   ]
  },
  {
   "cell_type": "code",
   "execution_count": 143,
   "id": "8415769e-5e0e-4cba-bd9b-461844232b5d",
   "metadata": {},
   "outputs": [
    {
     "name": "stdout",
     "output_type": "stream",
     "text": [
      "                 Date   Open     High    Low  Close\n",
      "Date                                               \n",
      "2010-06-30 2010-06-30  25.79  30.4192  23.30  23.83\n",
      "2010-06-29 2010-06-29  19.00  25.0000  17.54  23.89\n"
     ]
    }
   ],
   "source": [
    "print(tesla.loc['2010-06'].iloc[:, :5])"
   ]
  },
  {
   "cell_type": "code",
   "execution_count": 147,
   "id": "d6013f98-e2ea-4466-8e8c-7397e906e0c9",
   "metadata": {},
   "outputs": [
    {
     "name": "stdout",
     "output_type": "stream",
     "text": [
      "                 Date    Open    High     Low   Close      Volume  ExDividend  \\\n",
      "Date                                                                            \n",
      "2018-03-27 2018-03-27  304.00  304.27  277.18  279.18  13696168.0         0.0   \n",
      "2018-03-26 2018-03-26  307.34  307.59  291.36  304.18   8324639.0         0.0   \n",
      "2018-03-23 2018-03-23  311.25  311.61  300.45  301.54   6600538.0         0.0   \n",
      "2018-03-22 2018-03-22  313.89  318.82  308.18  309.10   4914307.0         0.0   \n",
      "2018-03-21 2018-03-21  310.25  322.44  310.19  316.53   5927881.0         0.0   \n",
      "\n",
      "            SplitRatio  AdjOpen  AdjHigh  AdjLow  AdjClose   AdjVolume  \\\n",
      "Date                                                                     \n",
      "2018-03-27         1.0   304.00   304.27  277.18    279.18  13696168.0   \n",
      "2018-03-26         1.0   307.34   307.59  291.36    304.18   8324639.0   \n",
      "2018-03-23         1.0   311.25   311.61  300.45    301.54   6600538.0   \n",
      "2018-03-22         1.0   313.89   318.82  308.18    309.10   4914307.0   \n",
      "2018-03-21         1.0   310.25   322.44  310.19    316.53   5927881.0   \n",
      "\n",
      "            ref_date  \n",
      "Date                  \n",
      "2018-03-27 2828 days  \n",
      "2018-03-26 2827 days  \n",
      "2018-03-23 2824 days  \n",
      "2018-03-22 2823 days  \n",
      "2018-03-21 2822 days  \n"
     ]
    }
   ],
   "source": [
    "tesla['ref_date'] = tesla['Date'] - tesla['Date'].min()\n",
    "print(tesla.head())"
   ]
  },
  {
   "cell_type": "code",
   "execution_count": 149,
   "id": "01f74b61-c925-4502-8708-5ea7606ea175",
   "metadata": {},
   "outputs": [
    {
     "name": "stdout",
     "output_type": "stream",
     "text": [
      "                Date    Open    High     Low   Close\n",
      "ref_date                                            \n",
      "2828 days 2018-03-27  304.00  304.27  277.18  279.18\n",
      "2827 days 2018-03-26  307.34  307.59  291.36  304.18\n",
      "2824 days 2018-03-23  311.25  311.61  300.45  301.54\n",
      "2823 days 2018-03-22  313.89  318.82  308.18  309.10\n",
      "2822 days 2018-03-21  310.25  322.44  310.19  316.53\n"
     ]
    }
   ],
   "source": [
    "tesla.index = tesla['ref_date']\n",
    "print(tesla.iloc[:5, :5])"
   ]
  },
  {
   "cell_type": "code",
   "execution_count": 151,
   "id": "e487e077-d93a-4cc9-8d9a-1df0ba550724",
   "metadata": {},
   "outputs": [
    {
     "name": "stdout",
     "output_type": "stream",
     "text": [
      "               Date   Open     High    Low  Close\n",
      "ref_date                                         \n",
      "3 days   2010-07-02  23.00  23.1000  18.71  19.20\n",
      "2 days   2010-07-01  25.00  25.9200  20.27  21.96\n",
      "1 days   2010-06-30  25.79  30.4192  23.30  23.83\n",
      "0 days   2010-06-29  19.00  25.0000  17.54  23.89\n"
     ]
    }
   ],
   "source": [
    "print(tesla.loc['5 days':].iloc[:5, :5])"
   ]
  },
  {
   "cell_type": "code",
   "execution_count": 155,
   "id": "8d514e95-3e81-4224-845f-e0611e4e5bf6",
   "metadata": {},
   "outputs": [
    {
     "name": "stdout",
     "output_type": "stream",
     "text": [
      "        Date  Day  Cases_Guinea  Cases_Liberia  Cases_SierraLeone\n",
      "0 2015-01-05  289        2776.0            NaN            10030.0\n",
      "1 2015-01-04  288        2775.0            NaN             9780.0\n",
      "2 2015-01-03  287        2769.0         8166.0             9722.0\n",
      "3 2015-01-02  286           NaN         8157.0                NaN\n",
      "4 2014-12-31  284        2730.0         8115.0             9633.0\n"
     ]
    }
   ],
   "source": [
    "ebola = pd.read_csv(r\"C:\\Users\\rud92\\0.ESAA\\country_timeseries.csv\", parse_dates=[0])\n",
    "print(ebola.iloc[:5, :5])"
   ]
  },
  {
   "cell_type": "code",
   "execution_count": 160,
   "id": "44d1a0e5-c841-4156-aa8f-74fb19df5d6a",
   "metadata": {},
   "outputs": [
    {
     "name": "stdout",
     "output_type": "stream",
     "text": [
      "          Date  Day  Cases_Guinea  Cases_Liberia  Cases_SierraLeone\n",
      "117 2014-03-27    5         103.0            8.0                6.0\n",
      "118 2014-03-26    4          86.0            NaN                NaN\n",
      "119 2014-03-25    3          86.0            NaN                NaN\n",
      "120 2014-03-24    2          86.0            NaN                NaN\n",
      "121 2014-03-22    0          49.0            NaN                NaN\n"
     ]
    }
   ],
   "source": [
    "print(ebola.iloc[-5:, :5])"
   ]
  },
  {
   "cell_type": "code",
   "execution_count": 164,
   "id": "65a956fd-b0aa-4596-80a8-062e59b7ab9b",
   "metadata": {},
   "outputs": [
    {
     "name": "stdout",
     "output_type": "stream",
     "text": [
      "DatetimeIndex(['2014-12-31', '2015-01-01', '2015-01-02', '2015-01-03',\n",
      "               '2015-01-04', '2015-01-05'],\n",
      "              dtype='datetime64[ns]', freq='D')\n"
     ]
    }
   ],
   "source": [
    "head_range = pd.date_range(start='2014-12-31', end='2015-01-05')\n",
    "print(head_range)"
   ]
  },
  {
   "cell_type": "code",
   "execution_count": 167,
   "id": "0ea9a980-6a85-4d88-aca4-6bf4de396820",
   "metadata": {},
   "outputs": [
    {
     "name": "stdout",
     "output_type": "stream",
     "text": [
      "                 Date  Day  Cases_Guinea  Cases_Liberia  Cases_SierraLeone\n",
      "Date                                                                      \n",
      "2015-01-05 2015-01-05  289        2776.0            NaN            10030.0\n",
      "2015-01-04 2015-01-04  288        2775.0            NaN             9780.0\n",
      "2015-01-03 2015-01-03  287        2769.0         8166.0             9722.0\n",
      "2015-01-02 2015-01-02  286           NaN         8157.0                NaN\n",
      "2014-12-31 2014-12-31  284        2730.0         8115.0             9633.0\n"
     ]
    }
   ],
   "source": [
    "ebola_5 = ebola.head()\n",
    "ebola_5.index = ebola_5['Date']\n",
    "ebola_5.reindex(head_range)\n",
    "print(ebola_5.iloc[:5, :5])"
   ]
  },
  {
   "cell_type": "code",
   "execution_count": 169,
   "id": "d9b5cff8-9233-465c-bd1d-31d934d5e6de",
   "metadata": {},
   "outputs": [
    {
     "data": {
      "image/png": "[encoded data removed]",
      "text/plain": [
       "<Figure size 640x480 with 1 Axes>"
      ]
     },
     "metadata": {},
     "output_type": "display_data"
    }
   ],
   "source": [
    "import matplotlib.pyplot as plt\n",
    "ebola.index = ebola['Date']\n",
    "\n",
    "fig, ax = plt.subplots()\n",
    "ax = ebola.iloc[0:, 1:].plot(ax=ax)\n",
    "ax.legend(fontsize=7, loc=2, borderaxespad=0.)\n",
    "plt.show()"
   ]
  },
  {
   "cell_type": "code",
   "execution_count": 171,
   "id": "ff57ad80-2ba6-48da-88af-02724a574487",
   "metadata": {},
   "outputs": [
    {
     "name": "stdout",
     "output_type": "stream",
     "text": [
      "            Day  Cases_Guinea  Cases_Liberia\n",
      "Date                                        \n",
      "2014-04-04   13         143.0           18.0\n",
      "2014-04-01   10         127.0            8.0\n",
      "2014-03-31    9         122.0            8.0\n",
      "2014-03-29    7         112.0            7.0\n",
      "2014-03-28    6         112.0            3.0\n",
      "2014-03-27    5         103.0            8.0\n",
      "2014-03-26    4          86.0            NaN\n",
      "2014-03-25    3          86.0            NaN\n",
      "2014-03-24    2          86.0            NaN\n",
      "2014-03-22    0          49.0            NaN\n"
     ]
    }
   ],
   "source": [
    "ebola_sub = ebola[['Day', 'Cases_Guinea', 'Cases_Liberia']]\n",
    "print(ebola_sub.tail(10))"
   ]
  },
  {
   "cell_type": "code",
   "execution_count": 177,
   "id": "a5943b83-02a7-4010-916e-f7205cc72e52",
   "metadata": {},
   "outputs": [
    {
     "name": "stdout",
     "output_type": "stream",
     "text": [
      "        Date  Day  Cases_Guinea  Cases_Liberia  Cases_SierraLeone\n",
      "0 2015-01-05  289        2776.0            NaN            10030.0\n",
      "1 2015-01-04  288        2775.0            NaN             9780.0\n",
      "2 2015-01-03  287        2769.0         8166.0             9722.0\n",
      "3 2015-01-02  286           NaN         8157.0                NaN\n",
      "4 2014-12-31  284        2730.0         8115.0             9633.0\n",
      "          Date  Day  Cases_Guinea  Cases_Liberia  Cases_SierraLeone\n",
      "117 2014-03-27    5         103.0            8.0                6.0\n",
      "118 2014-03-26    4          86.0            NaN                NaN\n",
      "119 2014-03-25    3          86.0            NaN                NaN\n",
      "120 2014-03-24    2          86.0            NaN                NaN\n",
      "121 2014-03-22    0          49.0            NaN                NaN\n"
     ]
    }
   ],
   "source": [
    "ebola = pd.read_csv(r\"C:\\Users\\rud92\\0.ESAA\\country_timeseries.csv\", parse_dates=['Date'])\n",
    "print(ebola.head().iloc[:,:5])\n",
    "print(ebola.tail().iloc[:,:5])\n"
   ]
  },
  {
   "cell_type": "code",
   "execution_count": 183,
   "id": "4d71636c-2062-4a7f-b035-ec98f176efda",
   "metadata": {},
   "outputs": [
    {
     "name": "stdout",
     "output_type": "stream",
     "text": [
      "DatetimeIndex(['2014-03-22', '2014-03-23', '2014-03-24', '2014-03-25',\n",
      "               '2014-03-26', '2014-03-27', '2014-03-28', '2014-03-29',\n",
      "               '2014-03-30', '2014-03-31',\n",
      "               ...\n",
      "               '2014-12-27', '2014-12-28', '2014-12-29', '2014-12-30',\n",
      "               '2014-12-31', '2015-01-01', '2015-01-02', '2015-01-03',\n",
      "               '2015-01-04', '2015-01-05'],\n",
      "              dtype='datetime64[ns]', length=290, freq='D')\n"
     ]
    }
   ],
   "source": [
    "ebola.index = ebola['Date']\n",
    "new_idx = pd.date_range(ebola.index.min(), ebola.index.max())\n",
    "print(new_idx)"
   ]
  },
  {
   "cell_type": "code",
   "execution_count": 195,
   "id": "e111b123-62ff-4c9e-a3b3-a71141cdb28a",
   "metadata": {},
   "outputs": [],
   "source": [
    "new_idx = list(reversed(list(new_idx)))"
   ]
  },
  {
   "cell_type": "code",
   "execution_count": 197,
   "id": "33617111-bddd-4164-9f81-b48d4b1cff81",
   "metadata": {},
   "outputs": [
    {
     "name": "stdout",
     "output_type": "stream",
     "text": [
      "                 Date    Day  Cases_Guinea  Cases_Liberia  Cases_SierraLeone\n",
      "Date                                                                        \n",
      "2015-01-05 2015-01-05  289.0        2776.0            NaN            10030.0\n",
      "2015-01-04 2015-01-04  288.0        2775.0            NaN             9780.0\n",
      "2015-01-03 2015-01-03  287.0        2769.0         8166.0             9722.0\n",
      "2015-01-02 2015-01-02  286.0           NaN         8157.0                NaN\n",
      "2015-01-01        NaT    NaN           NaN            NaN                NaN\n"
     ]
    }
   ],
   "source": [
    "ebola = ebola.reindex(new_idx)\n",
    "\n",
    "print(ebola.head().iloc[:, :5])"
   ]
  },
  {
   "cell_type": "code",
   "execution_count": 199,
   "id": "fb2af9b2-e9f5-4f6b-be79-dbf56504dcc4",
   "metadata": {},
   "outputs": [
    {
     "name": "stdout",
     "output_type": "stream",
     "text": [
      "                 Date  Day  Cases_Guinea  Cases_Liberia  Cases_SierraLeone\n",
      "Date                                                                      \n",
      "2014-03-26 2014-03-26  4.0          86.0            NaN                NaN\n",
      "2014-03-25 2014-03-25  3.0          86.0            NaN                NaN\n",
      "2014-03-24 2014-03-24  2.0          86.0            NaN                NaN\n",
      "2014-03-23        NaT  NaN           NaN            NaN                NaN\n",
      "2014-03-22 2014-03-22  0.0          49.0            NaN                NaN\n"
     ]
    }
   ],
   "source": [
    "print(ebola.tail().iloc[:, :5])"
   ]
  },
  {
   "cell_type": "code",
   "execution_count": 201,
   "id": "6cc07cb2-31ee-4194-bae3-2ca99eab3f82",
   "metadata": {},
   "outputs": [
    {
     "name": "stdout",
     "output_type": "stream",
     "text": [
      "Date                  2014-03-22\n",
      "Day                   2014-03-22\n",
      "Cases_Guinea          2014-03-22\n",
      "Cases_Liberia         2014-03-27\n",
      "Cases_SierraLeone     2014-03-27\n",
      "Cases_Nigeria         2014-07-23\n",
      "Cases_Senegal         2014-08-31\n",
      "Cases_UnitedStates    2014-10-01\n",
      "Cases_Spain           2014-10-08\n",
      "Cases_Mali            2014-10-22\n",
      "Deaths_Guinea         2014-03-22\n",
      "Deaths_Liberia        2014-03-27\n",
      "Deaths_SierraLeone    2014-03-27\n",
      "Deaths_Nigeria        2014-07-23\n",
      "Deaths_Senegal        2014-09-07\n",
      "Deaths_UnitedStates   2014-10-01\n",
      "Deaths_Spain          2014-10-08\n",
      "Deaths_Mali           2014-10-22\n",
      "dtype: datetime64[ns]\n"
     ]
    }
   ],
   "source": [
    "last_valid = ebola.apply(pd.Series.last_valid_index)\n",
    "print(last_valid)"
   ]
  },
  {
   "cell_type": "code",
   "execution_count": 203,
   "id": "3c9d927a-7b5e-4dcc-82ab-91df0d311c4f",
   "metadata": {},
   "outputs": [
    {
     "name": "stdout",
     "output_type": "stream",
     "text": [
      "Date                  2015-01-05\n",
      "Day                   2015-01-05\n",
      "Cases_Guinea          2015-01-05\n",
      "Cases_Liberia         2015-01-03\n",
      "Cases_SierraLeone     2015-01-05\n",
      "Cases_Nigeria         2014-12-07\n",
      "Cases_Senegal         2014-12-07\n",
      "Cases_UnitedStates    2014-12-07\n",
      "Cases_Spain           2014-12-07\n",
      "Cases_Mali            2014-12-07\n",
      "Deaths_Guinea         2015-01-05\n",
      "Deaths_Liberia        2015-01-03\n",
      "Deaths_SierraLeone    2015-01-05\n",
      "Deaths_Nigeria        2014-12-07\n",
      "Deaths_Senegal        2014-12-07\n",
      "Deaths_UnitedStates   2014-12-07\n",
      "Deaths_Spain          2014-12-07\n",
      "Deaths_Mali           2014-12-07\n",
      "dtype: datetime64[ns]\n"
     ]
    }
   ],
   "source": [
    "first_valid = ebola.apply(pd.Series.first_valid_index)\n",
    "print(first_valid)"
   ]
  },
  {
   "cell_type": "code",
   "execution_count": 205,
   "id": "4b0a5171-2ee3-42a9-a89e-9593eaec1a91",
   "metadata": {},
   "outputs": [
    {
     "name": "stdout",
     "output_type": "stream",
     "text": [
      "2014-03-22 00:00:00\n"
     ]
    }
   ],
   "source": [
    "earliest_date = ebola.index.min()\n",
    "print(earliest_date)"
   ]
  },
  {
   "cell_type": "code",
   "execution_count": 207,
   "id": "01d6cc69-7430-44e7-8302-f3b05c33146d",
   "metadata": {},
   "outputs": [
    {
     "name": "stdout",
     "output_type": "stream",
     "text": [
      "Date                    0 days\n",
      "Day                     0 days\n",
      "Cases_Guinea            0 days\n",
      "Cases_Liberia           5 days\n",
      "Cases_SierraLeone       5 days\n",
      "Cases_Nigeria         123 days\n",
      "Cases_Senegal         162 days\n",
      "Cases_UnitedStates    193 days\n",
      "Cases_Spain           200 days\n",
      "Cases_Mali            214 days\n",
      "Deaths_Guinea           0 days\n",
      "Deaths_Liberia          5 days\n",
      "Deaths_SierraLeone      5 days\n",
      "Deaths_Nigeria        123 days\n",
      "Deaths_Senegal        169 days\n",
      "Deaths_UnitedStates   193 days\n",
      "Deaths_Spain          200 days\n",
      "Deaths_Mali           214 days\n",
      "dtype: timedelta64[ns]\n"
     ]
    }
   ],
   "source": [
    "shift_values = last_valid - earliest_date\n",
    "print(shift_values)"
   ]
  },
  {
   "cell_type": "code",
   "execution_count": 213,
   "id": "38bb9999-79ee-443a-babc-e7c837e3a2fa",
   "metadata": {},
   "outputs": [
    {
     "name": "stderr",
     "output_type": "stream",
     "text": [
      "C:\\Users\\rud92\\AppData\\Local\\Temp\\ipykernel_1768\\3965272697.py:4: FutureWarning: Series.__getitem__ treating keys as positions is deprecated. In a future version, integer keys will always be treated as labels (consistent with DataFrame behavior). To access a value by position, use `ser.iloc[pos]`\n",
      "  d = shift_values[idx].days\n"
     ]
    }
   ],
   "source": [
    "ebola_dict={}\n",
    "\n",
    "for idx, col in enumerate(ebola):\n",
    "    d = shift_values[idx].days\n",
    "    shifted = ebola[col].shift(d)\n",
    "    ebola_dict[col] = shifted\n",
    "\n",
    "\n",
    "ebola_shift = pd.DataFrame(ebola_dict)"
   ]
  },
  {
   "cell_type": "code",
   "execution_count": 215,
   "id": "d4746790-8e17-4157-afeb-6bcd04d9d7e8",
   "metadata": {},
   "outputs": [
    {
     "name": "stdout",
     "output_type": "stream",
     "text": [
      "                 Date    Day  Cases_Guinea  Cases_Liberia  Cases_SierraLeone  \\\n",
      "Date                                                                           \n",
      "2015-01-05 2015-01-05  289.0        2776.0            NaN                NaN   \n",
      "2015-01-04 2015-01-04  288.0        2775.0            NaN                NaN   \n",
      "2015-01-03 2015-01-03  287.0        2769.0            NaN                NaN   \n",
      "2015-01-02 2015-01-02  286.0           NaN            NaN                NaN   \n",
      "2015-01-01        NaT    NaN           NaN            NaN                NaN   \n",
      "...               ...    ...           ...            ...                ...   \n",
      "2014-03-26 2014-03-26    4.0          86.0            8.0                2.0   \n",
      "2014-03-25 2014-03-25    3.0          86.0            NaN                NaN   \n",
      "2014-03-24 2014-03-24    2.0          86.0            7.0                NaN   \n",
      "2014-03-23        NaT    NaN           NaN            3.0                2.0   \n",
      "2014-03-22 2014-03-22    0.0          49.0            8.0                6.0   \n",
      "\n",
      "            Cases_Nigeria  Cases_Senegal  Cases_UnitedStates  Cases_Spain  \\\n",
      "Date                                                                        \n",
      "2015-01-05            NaN            NaN                 NaN          NaN   \n",
      "2015-01-04            NaN            NaN                 NaN          NaN   \n",
      "2015-01-03            NaN            NaN                 NaN          NaN   \n",
      "2015-01-02            NaN            NaN                 NaN          NaN   \n",
      "2015-01-01            NaN            NaN                 NaN          NaN   \n",
      "...                   ...            ...                 ...          ...   \n",
      "2014-03-26            1.0            NaN                 1.0          1.0   \n",
      "2014-03-25            NaN            NaN                 NaN          NaN   \n",
      "2014-03-24            NaN            NaN                 NaN          NaN   \n",
      "2014-03-23            NaN            NaN                 NaN          NaN   \n",
      "2014-03-22            0.0            1.0                 1.0          1.0   \n",
      "\n",
      "            Cases_Mali  Deaths_Guinea  Deaths_Liberia  Deaths_SierraLeone  \\\n",
      "Date                                                                        \n",
      "2015-01-05         NaN         1786.0             NaN                 NaN   \n",
      "2015-01-04         NaN         1781.0             NaN                 NaN   \n",
      "2015-01-03         NaN         1767.0             NaN                 NaN   \n",
      "2015-01-02         NaN            NaN             NaN                 NaN   \n",
      "2015-01-01         NaN            NaN             NaN                 NaN   \n",
      "...                ...            ...             ...                 ...   \n",
      "2014-03-26         NaN           62.0             4.0                 2.0   \n",
      "2014-03-25         NaN           60.0             NaN                 NaN   \n",
      "2014-03-24         NaN           59.0             2.0                 NaN   \n",
      "2014-03-23         NaN            NaN             3.0                 2.0   \n",
      "2014-03-22         1.0           29.0             6.0                 5.0   \n",
      "\n",
      "            Deaths_Nigeria  Deaths_Senegal  Deaths_UnitedStates  Deaths_Spain  \\\n",
      "Date                                                                            \n",
      "2015-01-05             NaN             NaN                  NaN           NaN   \n",
      "2015-01-04             NaN             NaN                  NaN           NaN   \n",
      "2015-01-03             NaN             NaN                  NaN           NaN   \n",
      "2015-01-02             NaN             NaN                  NaN           NaN   \n",
      "2015-01-01             NaN             NaN                  NaN           NaN   \n",
      "...                    ...             ...                  ...           ...   \n",
      "2014-03-26             1.0             NaN                  0.0           1.0   \n",
      "2014-03-25             NaN             NaN                  NaN           NaN   \n",
      "2014-03-24             NaN             NaN                  NaN           NaN   \n",
      "2014-03-23             NaN             NaN                  NaN           NaN   \n",
      "2014-03-22             0.0             0.0                  0.0           1.0   \n",
      "\n",
      "            Deaths_Mali  \n",
      "Date                     \n",
      "2015-01-05          NaN  \n",
      "2015-01-04          NaN  \n",
      "2015-01-03          NaN  \n",
      "2015-01-02          NaN  \n",
      "2015-01-01          NaN  \n",
      "...                 ...  \n",
      "2014-03-26          NaN  \n",
      "2014-03-25          NaN  \n",
      "2014-03-24          NaN  \n",
      "2014-03-23          NaN  \n",
      "2014-03-22          1.0  \n",
      "\n",
      "[290 rows x 18 columns]\n"
     ]
    }
   ],
   "source": [
    "print(ebola_shift)"
   ]
  },
  {
   "cell_type": "code",
   "execution_count": 217,
   "id": "37d3b500-571f-408b-a4a4-b3aa1d10e826",
   "metadata": {},
   "outputs": [
    {
     "name": "stdout",
     "output_type": "stream",
     "text": [
      "          Date  Day  Cases_Guinea  Cases_Liberia  Cases_SierraLeone  \\\n",
      "Day                                                                   \n",
      "4.0 2014-03-26  4.0          86.0            8.0                2.0   \n",
      "3.0 2014-03-25  3.0          86.0            NaN                NaN   \n",
      "2.0 2014-03-24  2.0          86.0            7.0                NaN   \n",
      "NaN        NaT  NaN           NaN            3.0                2.0   \n",
      "0.0 2014-03-22  0.0          49.0            8.0                6.0   \n",
      "\n",
      "     Cases_Nigeria  Cases_Senegal  Cases_UnitedStates  Cases_Spain  \\\n",
      "Day                                                                  \n",
      "4.0            1.0            NaN                 1.0          1.0   \n",
      "3.0            NaN            NaN                 NaN          NaN   \n",
      "2.0            NaN            NaN                 NaN          NaN   \n",
      "NaN            NaN            NaN                 NaN          NaN   \n",
      "0.0            0.0            1.0                 1.0          1.0   \n",
      "\n",
      "     Cases_Mali  Deaths_Guinea  Deaths_Liberia  Deaths_SierraLeone  \\\n",
      "Day                                                                  \n",
      "4.0         NaN           62.0             4.0                 2.0   \n",
      "3.0         NaN           60.0             NaN                 NaN   \n",
      "2.0         NaN           59.0             2.0                 NaN   \n",
      "NaN         NaN            NaN             3.0                 2.0   \n",
      "0.0         1.0           29.0             6.0                 5.0   \n",
      "\n",
      "     Deaths_Nigeria  Deaths_Senegal  Deaths_UnitedStates  Deaths_Spain  \\\n",
      "Day                                                                      \n",
      "4.0             1.0             NaN                  0.0           1.0   \n",
      "3.0             NaN             NaN                  NaN           NaN   \n",
      "2.0             NaN             NaN                  NaN           NaN   \n",
      "NaN             NaN             NaN                  NaN           NaN   \n",
      "0.0             0.0             0.0                  0.0           1.0   \n",
      "\n",
      "     Deaths_Mali  \n",
      "Day               \n",
      "4.0          NaN  \n",
      "3.0          NaN  \n",
      "2.0          NaN  \n",
      "NaN          NaN  \n",
      "0.0          1.0  \n"
     ]
    }
   ],
   "source": [
    "ebola_shift.index = ebola_shift['Day']\n",
    "ebola_shfit = ebola_shift.drop(['Date', 'Day'], axis=1)\n",
    "\n",
    "print(ebola_shift.tail())"
   ]
  },
  {
   "cell_type": "code",
   "execution_count": 219,
   "id": "db21b9ea-3720-4172-ae94-776e15a83202",
   "metadata": {},
   "outputs": [
    {
     "data": {
      "image/png": "[encoded data removed]",
      "text/plain": [
       "<Figure size 640x480 with 1 Axes>"
      ]
     },
     "metadata": {},
     "output_type": "display_data"
    }
   ],
   "source": [
    "fig, ax = plt.subplots()\n",
    "ax = ebola_shift.iloc[0:, 1:].plot(ax=ax)\n",
    "ax.legend(fontsize=7, loc=2, borderaxespad=0.)\n",
    "plt.show()"
   ]
  }
 ],
 "metadata": {
  "kernelspec": {
   "display_name": "Python 3 (ipykernel)",
   "language": "python",
   "name": "python3"
  },
  "language_info": {
   "codemirror_mode": {
    "name": "ipython",
    "version": 3
   },
   "file_extension": ".py",
   "mimetype": "text/x-python",
   "name": "python",
   "nbconvert_exporter": "python",
   "pygments_lexer": "ipython3",
   "version": "3.12.4"
  }
 },
 "nbformat": 4,
 "nbformat_minor": 5
}
