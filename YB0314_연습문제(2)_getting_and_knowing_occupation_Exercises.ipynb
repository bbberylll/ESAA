{
 "cells": [
  {
   "cell_type": "markdown",
   "metadata": {
    "id": "TmbMPKKtjZ01"
   },
   "source": [
    "# Ex3 - Getting and Knowing your Data"
   ]
  },
  {
   "cell_type": "markdown",
   "metadata": {
    "id": "RMr6FrW5jZ03"
   },
   "source": [
    "This time we are going to pull data directly from the internet.\n",
    "Special thanks to: https://github.com/justmarkham for sharing the dataset and materials.\n",
    "\n",
    "### Step 1. Import the necessary libraries"
   ]
  },
  {
   "cell_type": "code",
   "execution_count": 2,
   "metadata": {
    "id": "MRqTG9FbjZ04"
   },
   "outputs": [],
   "source": [
    "import pandas as pd"
   ]
  },
  {
   "cell_type": "markdown",
   "metadata": {
    "id": "O2xrulvyjZ05"
   },
   "source": [
    "### Step 2. Import the dataset from this [address](https://raw.githubusercontent.com/justmarkham/DAT8/master/data/u.user)."
   ]
  },
  {
   "cell_type": "markdown",
   "metadata": {
    "id": "h1S1PaGSjZ06"
   },
   "source": [
    "### Step 3. Assign it to a variable called users and use the 'user_id' as index"
   ]
  },
  {
   "cell_type": "code",
   "execution_count": 27,
   "metadata": {},
   "outputs": [],
   "source": [
    "users = pd.read_csv(\"https://raw.githubusercontent.com/justmarkham/DAT8/master/data/u.user\", sep=\"|\")\n",
    "users.set_index('user_id', inplace=True)"
   ]
  },
  {
   "cell_type": "markdown",
   "metadata": {
    "id": "vNIkUbUejZ07"
   },
   "source": [
    "### Step 4. See the first 25 entries"
   ]
  },
  {
   "cell_type": "code",
   "execution_count": 29,
   "metadata": {
    "id": "y33tzu2TjZ0-",
    "scrolled": true
   },
   "outputs": [
    {
     "data": {
      "text/html": [
       "<div>\n",
       "<style scoped>\n",
       "    .dataframe tbody tr th:only-of-type {\n",
       "        vertical-align: middle;\n",
       "    }\n",
       "\n",
       "    .dataframe tbody tr th {\n",
       "        vertical-align: top;\n",
       "    }\n",
       "\n",
       "    .dataframe thead th {\n",
       "        text-align: right;\n",
       "    }\n",
       "</style>\n",
       "<table border=\"1\" class=\"dataframe\">\n",
       "  <thead>\n",
       "    <tr style=\"text-align: right;\">\n",
       "      <th></th>\n",
       "      <th>age</th>\n",
       "      <th>gender</th>\n",
       "      <th>occupation</th>\n",
       "      <th>zip_code</th>\n",
       "    </tr>\n",
       "    <tr>\n",
       "      <th>user_id</th>\n",
       "      <th></th>\n",
       "      <th></th>\n",
       "      <th></th>\n",
       "      <th></th>\n",
       "    </tr>\n",
       "  </thead>\n",
       "  <tbody>\n",
       "    <tr>\n",
       "      <th>1</th>\n",
       "      <td>24</td>\n",
       "      <td>M</td>\n",
       "      <td>technician</td>\n",
       "      <td>85711</td>\n",
       "    </tr>\n",
       "    <tr>\n",
       "      <th>2</th>\n",
       "      <td>53</td>\n",
       "      <td>F</td>\n",
       "      <td>other</td>\n",
       "      <td>94043</td>\n",
       "    </tr>\n",
       "    <tr>\n",
       "      <th>3</th>\n",
       "      <td>23</td>\n",
       "      <td>M</td>\n",
       "      <td>writer</td>\n",
       "      <td>32067</td>\n",
       "    </tr>\n",
       "    <tr>\n",
       "      <th>4</th>\n",
       "      <td>24</td>\n",
       "      <td>M</td>\n",
       "      <td>technician</td>\n",
       "      <td>43537</td>\n",
       "    </tr>\n",
       "    <tr>\n",
       "      <th>5</th>\n",
       "      <td>33</td>\n",
       "      <td>F</td>\n",
       "      <td>other</td>\n",
       "      <td>15213</td>\n",
       "    </tr>\n",
       "    <tr>\n",
       "      <th>6</th>\n",
       "      <td>42</td>\n",
       "      <td>M</td>\n",
       "      <td>executive</td>\n",
       "      <td>98101</td>\n",
       "    </tr>\n",
       "    <tr>\n",
       "      <th>7</th>\n",
       "      <td>57</td>\n",
       "      <td>M</td>\n",
       "      <td>administrator</td>\n",
       "      <td>91344</td>\n",
       "    </tr>\n",
       "    <tr>\n",
       "      <th>8</th>\n",
       "      <td>36</td>\n",
       "      <td>M</td>\n",
       "      <td>administrator</td>\n",
       "      <td>05201</td>\n",
       "    </tr>\n",
       "    <tr>\n",
       "      <th>9</th>\n",
       "      <td>29</td>\n",
       "      <td>M</td>\n",
       "      <td>student</td>\n",
       "      <td>01002</td>\n",
       "    </tr>\n",
       "    <tr>\n",
       "      <th>10</th>\n",
       "      <td>53</td>\n",
       "      <td>M</td>\n",
       "      <td>lawyer</td>\n",
       "      <td>90703</td>\n",
       "    </tr>\n",
       "    <tr>\n",
       "      <th>11</th>\n",
       "      <td>39</td>\n",
       "      <td>F</td>\n",
       "      <td>other</td>\n",
       "      <td>30329</td>\n",
       "    </tr>\n",
       "    <tr>\n",
       "      <th>12</th>\n",
       "      <td>28</td>\n",
       "      <td>F</td>\n",
       "      <td>other</td>\n",
       "      <td>06405</td>\n",
       "    </tr>\n",
       "    <tr>\n",
       "      <th>13</th>\n",
       "      <td>47</td>\n",
       "      <td>M</td>\n",
       "      <td>educator</td>\n",
       "      <td>29206</td>\n",
       "    </tr>\n",
       "    <tr>\n",
       "      <th>14</th>\n",
       "      <td>45</td>\n",
       "      <td>M</td>\n",
       "      <td>scientist</td>\n",
       "      <td>55106</td>\n",
       "    </tr>\n",
       "    <tr>\n",
       "      <th>15</th>\n",
       "      <td>49</td>\n",
       "      <td>F</td>\n",
       "      <td>educator</td>\n",
       "      <td>97301</td>\n",
       "    </tr>\n",
       "    <tr>\n",
       "      <th>16</th>\n",
       "      <td>21</td>\n",
       "      <td>M</td>\n",
       "      <td>entertainment</td>\n",
       "      <td>10309</td>\n",
       "    </tr>\n",
       "    <tr>\n",
       "      <th>17</th>\n",
       "      <td>30</td>\n",
       "      <td>M</td>\n",
       "      <td>programmer</td>\n",
       "      <td>06355</td>\n",
       "    </tr>\n",
       "    <tr>\n",
       "      <th>18</th>\n",
       "      <td>35</td>\n",
       "      <td>F</td>\n",
       "      <td>other</td>\n",
       "      <td>37212</td>\n",
       "    </tr>\n",
       "    <tr>\n",
       "      <th>19</th>\n",
       "      <td>40</td>\n",
       "      <td>M</td>\n",
       "      <td>librarian</td>\n",
       "      <td>02138</td>\n",
       "    </tr>\n",
       "    <tr>\n",
       "      <th>20</th>\n",
       "      <td>42</td>\n",
       "      <td>F</td>\n",
       "      <td>homemaker</td>\n",
       "      <td>95660</td>\n",
       "    </tr>\n",
       "    <tr>\n",
       "      <th>21</th>\n",
       "      <td>26</td>\n",
       "      <td>M</td>\n",
       "      <td>writer</td>\n",
       "      <td>30068</td>\n",
       "    </tr>\n",
       "    <tr>\n",
       "      <th>22</th>\n",
       "      <td>25</td>\n",
       "      <td>M</td>\n",
       "      <td>writer</td>\n",
       "      <td>40206</td>\n",
       "    </tr>\n",
       "    <tr>\n",
       "      <th>23</th>\n",
       "      <td>30</td>\n",
       "      <td>F</td>\n",
       "      <td>artist</td>\n",
       "      <td>48197</td>\n",
       "    </tr>\n",
       "    <tr>\n",
       "      <th>24</th>\n",
       "      <td>21</td>\n",
       "      <td>F</td>\n",
       "      <td>artist</td>\n",
       "      <td>94533</td>\n",
       "    </tr>\n",
       "    <tr>\n",
       "      <th>25</th>\n",
       "      <td>39</td>\n",
       "      <td>M</td>\n",
       "      <td>engineer</td>\n",
       "      <td>55107</td>\n",
       "    </tr>\n",
       "  </tbody>\n",
       "</table>\n",
       "</div>"
      ],
      "text/plain": [
       "         age gender     occupation zip_code\n",
       "user_id                                    \n",
       "1         24      M     technician    85711\n",
       "2         53      F          other    94043\n",
       "3         23      M         writer    32067\n",
       "4         24      M     technician    43537\n",
       "5         33      F          other    15213\n",
       "6         42      M      executive    98101\n",
       "7         57      M  administrator    91344\n",
       "8         36      M  administrator    05201\n",
       "9         29      M        student    01002\n",
       "10        53      M         lawyer    90703\n",
       "11        39      F          other    30329\n",
       "12        28      F          other    06405\n",
       "13        47      M       educator    29206\n",
       "14        45      M      scientist    55106\n",
       "15        49      F       educator    97301\n",
       "16        21      M  entertainment    10309\n",
       "17        30      M     programmer    06355\n",
       "18        35      F          other    37212\n",
       "19        40      M      librarian    02138\n",
       "20        42      F      homemaker    95660\n",
       "21        26      M         writer    30068\n",
       "22        25      M         writer    40206\n",
       "23        30      F         artist    48197\n",
       "24        21      F         artist    94533\n",
       "25        39      M       engineer    55107"
      ]
     },
     "execution_count": 29,
     "metadata": {},
     "output_type": "execute_result"
    }
   ],
   "source": [
    "users.head(25)"
   ]
  },
  {
   "cell_type": "markdown",
   "metadata": {
    "id": "BLIMS9ZnjZ0_"
   },
   "source": [
    "### Step 5. See the last 10 entries"
   ]
  },
  {
   "cell_type": "code",
   "execution_count": 17,
   "metadata": {
    "id": "CH75Lsl5jZ1A",
    "scrolled": true
   },
   "outputs": [
    {
     "data": {
      "text/html": [
       "<div>\n",
       "<style scoped>\n",
       "    .dataframe tbody tr th:only-of-type {\n",
       "        vertical-align: middle;\n",
       "    }\n",
       "\n",
       "    .dataframe tbody tr th {\n",
       "        vertical-align: top;\n",
       "    }\n",
       "\n",
       "    .dataframe thead th {\n",
       "        text-align: right;\n",
       "    }\n",
       "</style>\n",
       "<table border=\"1\" class=\"dataframe\">\n",
       "  <thead>\n",
       "    <tr style=\"text-align: right;\">\n",
       "      <th></th>\n",
       "      <th>user_id</th>\n",
       "      <th>age</th>\n",
       "      <th>gender</th>\n",
       "      <th>occupation</th>\n",
       "      <th>zip_code</th>\n",
       "    </tr>\n",
       "  </thead>\n",
       "  <tbody>\n",
       "    <tr>\n",
       "      <th>933</th>\n",
       "      <td>934</td>\n",
       "      <td>61</td>\n",
       "      <td>M</td>\n",
       "      <td>engineer</td>\n",
       "      <td>22902</td>\n",
       "    </tr>\n",
       "    <tr>\n",
       "      <th>934</th>\n",
       "      <td>935</td>\n",
       "      <td>42</td>\n",
       "      <td>M</td>\n",
       "      <td>doctor</td>\n",
       "      <td>66221</td>\n",
       "    </tr>\n",
       "    <tr>\n",
       "      <th>935</th>\n",
       "      <td>936</td>\n",
       "      <td>24</td>\n",
       "      <td>M</td>\n",
       "      <td>other</td>\n",
       "      <td>32789</td>\n",
       "    </tr>\n",
       "    <tr>\n",
       "      <th>936</th>\n",
       "      <td>937</td>\n",
       "      <td>48</td>\n",
       "      <td>M</td>\n",
       "      <td>educator</td>\n",
       "      <td>98072</td>\n",
       "    </tr>\n",
       "    <tr>\n",
       "      <th>937</th>\n",
       "      <td>938</td>\n",
       "      <td>38</td>\n",
       "      <td>F</td>\n",
       "      <td>technician</td>\n",
       "      <td>55038</td>\n",
       "    </tr>\n",
       "    <tr>\n",
       "      <th>938</th>\n",
       "      <td>939</td>\n",
       "      <td>26</td>\n",
       "      <td>F</td>\n",
       "      <td>student</td>\n",
       "      <td>33319</td>\n",
       "    </tr>\n",
       "    <tr>\n",
       "      <th>939</th>\n",
       "      <td>940</td>\n",
       "      <td>32</td>\n",
       "      <td>M</td>\n",
       "      <td>administrator</td>\n",
       "      <td>02215</td>\n",
       "    </tr>\n",
       "    <tr>\n",
       "      <th>940</th>\n",
       "      <td>941</td>\n",
       "      <td>20</td>\n",
       "      <td>M</td>\n",
       "      <td>student</td>\n",
       "      <td>97229</td>\n",
       "    </tr>\n",
       "    <tr>\n",
       "      <th>941</th>\n",
       "      <td>942</td>\n",
       "      <td>48</td>\n",
       "      <td>F</td>\n",
       "      <td>librarian</td>\n",
       "      <td>78209</td>\n",
       "    </tr>\n",
       "    <tr>\n",
       "      <th>942</th>\n",
       "      <td>943</td>\n",
       "      <td>22</td>\n",
       "      <td>M</td>\n",
       "      <td>student</td>\n",
       "      <td>77841</td>\n",
       "    </tr>\n",
       "  </tbody>\n",
       "</table>\n",
       "</div>"
      ],
      "text/plain": [
       "     user_id  age gender     occupation zip_code\n",
       "933      934   61      M       engineer    22902\n",
       "934      935   42      M         doctor    66221\n",
       "935      936   24      M          other    32789\n",
       "936      937   48      M       educator    98072\n",
       "937      938   38      F     technician    55038\n",
       "938      939   26      F        student    33319\n",
       "939      940   32      M  administrator    02215\n",
       "940      941   20      M        student    97229\n",
       "941      942   48      F      librarian    78209\n",
       "942      943   22      M        student    77841"
      ]
     },
     "execution_count": 17,
     "metadata": {},
     "output_type": "execute_result"
    }
   ],
   "source": [
    "users.tail(10)"
   ]
  },
  {
   "cell_type": "markdown",
   "metadata": {
    "id": "RQ6n3RwvjZ1A"
   },
   "source": [
    "### Step 6. What is the number of observations in the dataset?"
   ]
  },
  {
   "cell_type": "code",
   "execution_count": 65,
   "metadata": {
    "id": "Ja-lX206jZ1B"
   },
   "outputs": [
    {
     "data": {
      "text/plain": [
       "943"
      ]
     },
     "execution_count": 65,
     "metadata": {},
     "output_type": "execute_result"
    }
   ],
   "source": [
    "len(users)"
   ]
  },
  {
   "cell_type": "markdown",
   "metadata": {
    "id": "sDxYnkMIjZ1B"
   },
   "source": [
    "### Step 7. What is the number of columns in the dataset?"
   ]
  },
  {
   "cell_type": "code",
   "execution_count": 67,
   "metadata": {
    "id": "q0u68RzzjZ1B"
   },
   "outputs": [
    {
     "data": {
      "text/plain": [
       "4"
      ]
     },
     "execution_count": 67,
     "metadata": {},
     "output_type": "execute_result"
    }
   ],
   "source": [
    "len(users.columns)"
   ]
  },
  {
   "cell_type": "markdown",
   "metadata": {
    "id": "iRLvkG3pjZ1C"
   },
   "source": [
    "### Step 8. Print the name of all the columns."
   ]
  },
  {
   "cell_type": "code",
   "execution_count": 69,
   "metadata": {
    "id": "Kif4BlWIjZ1C"
   },
   "outputs": [
    {
     "name": "stdout",
     "output_type": "stream",
     "text": [
      "Index(['age', 'gender', 'occupation', 'zip_code'], dtype='object')\n"
     ]
    }
   ],
   "source": [
    "print(users.columns)"
   ]
  },
  {
   "cell_type": "markdown",
   "metadata": {
    "id": "rFsuW4oQjZ1C"
   },
   "source": [
    "### Step 9. How is the dataset indexed?"
   ]
  },
  {
   "cell_type": "code",
   "execution_count": null,
   "metadata": {
    "id": "0lWiFBvJjZ1D"
   },
   "outputs": [],
   "source": [
    "- user.index  / type(user.index)"
   ]
  },
  {
   "cell_type": "markdown",
   "metadata": {
    "id": "bflUk2rqjZ1D"
   },
   "source": [
    "### Step 10. What is the data type of each column?"
   ]
  },
  {
   "cell_type": "code",
   "execution_count": 71,
   "metadata": {
    "id": "BaAK685MjZ1D"
   },
   "outputs": [
    {
     "data": {
      "text/plain": [
       "age            int64\n",
       "gender        object\n",
       "occupation    object\n",
       "zip_code      object\n",
       "dtype: object"
      ]
     },
     "execution_count": 71,
     "metadata": {},
     "output_type": "execute_result"
    }
   ],
   "source": [
    "users.dtypes"
   ]
  },
  {
   "cell_type": "markdown",
   "metadata": {
    "id": "BlG3UolQjZ1E"
   },
   "source": [
    "### Step 11. Print only the occupation column"
   ]
  },
  {
   "cell_type": "code",
   "execution_count": 73,
   "metadata": {
    "id": "f3fAg8egjZ1E"
   },
   "outputs": [
    {
     "name": "stdout",
     "output_type": "stream",
     "text": [
      "user_id\n",
      "1         technician\n",
      "2              other\n",
      "3             writer\n",
      "4         technician\n",
      "5              other\n",
      "           ...      \n",
      "939          student\n",
      "940    administrator\n",
      "941          student\n",
      "942        librarian\n",
      "943          student\n",
      "Name: occupation, Length: 943, dtype: object\n"
     ]
    }
   ],
   "source": [
    "print(users['occupation'])"
   ]
  },
  {
   "cell_type": "markdown",
   "metadata": {
    "id": "1tMaAjwtjZ1E"
   },
   "source": [
    "### Step 12. How many different occupations are in this dataset?"
   ]
  },
  {
   "cell_type": "code",
   "execution_count": 112,
   "metadata": {
    "id": "jfRXS_jZjZ1E"
   },
   "outputs": [
    {
     "name": "stdout",
     "output_type": "stream",
     "text": [
      "['technician' 'other' 'writer' 'executive' 'administrator' 'student'\n",
      " 'lawyer' 'educator' 'scientist' 'entertainment' 'programmer' 'librarian'\n",
      " 'homemaker' 'artist' 'engineer' 'marketing' 'none' 'healthcare' 'retired'\n",
      " 'salesman' 'doctor']\n",
      "21\n"
     ]
    }
   ],
   "source": [
    "print(users['occupation'].unique())\n",
    "\n",
    "print(users['occupation'].nunique())   ## 새롭게 알게 된 내용!! "
   ]
  },
  {
   "cell_type": "markdown",
   "metadata": {
    "id": "vt4R4bIpjZ1E"
   },
   "source": [
    "### Step 13. What is the most frequent occupation?"
   ]
  },
  {
   "cell_type": "code",
   "execution_count": 95,
   "metadata": {
    "id": "lvO4m6jvjZ1F"
   },
   "outputs": [
    {
     "data": {
      "image/png": "[encoded data removed]",
      "text/plain": [
       "<Figure size 1000x600 with 1 Axes>"
      ]
     },
     "metadata": {},
     "output_type": "display_data"
    }
   ],
   "source": [
    "import matplotlib.pyplot as plt\n",
    "occ_counts = users['occupation'].value_counts()\n",
    "\n",
    "plt.figure(figsize=(10, 6))\n",
    "\n",
    "plt.bar(x=occ_counts.index, height=occ_counts.values)\n",
    "\n",
    "plt.xticks(rotation=90)\n",
    "\n",
    "plt.title('Frequency of Occupations')\n",
    "plt.xlabel('Occupation')\n",
    "plt.ylabel('Count')\n",
    "plt.show()\n",
    "\n",
    "\n",
    "value_counts()랑 head(), []를 이용하는 방식 \n"
   ]
  },
  {
   "cell_type": "markdown",
   "metadata": {
    "id": "wfGmgVK0jZ1F"
   },
   "source": [
    "### Step 14. Summarize the DataFrame."
   ]
  },
  {
   "cell_type": "code",
   "execution_count": 108,
   "metadata": {
    "id": "lw2_5fhajZ1F"
   },
   "outputs": [
    {
     "ename": "SyntaxError",
     "evalue": "invalid syntax (2471206029.py, line 1)",
     "output_type": "error",
     "traceback": [
      "\u001b[1;36m  Cell \u001b[1;32mIn[108], line 1\u001b[1;36m\u001b[0m\n\u001b[1;33m    df.describe() 해달라고 함. 흠 근데 이거는 연속형만 할 수 있는거 아닌가??\u001b[0m\n\u001b[1;37m                  ^\u001b[0m\n\u001b[1;31mSyntaxError\u001b[0m\u001b[1;31m:\u001b[0m invalid syntax\n"
     ]
    }
   ],
   "source": [
    "df.describe() 해달라고 함. 흠 근데 이거는 연속형만 할 수 있는거 아닌가?? \n",
    "\n",
    "inclue = 'all' 이라는 옵션 있음 "
   ]
  },
  {
   "cell_type": "markdown",
   "metadata": {
    "id": "V23pGeLSjZ1F"
   },
   "source": [
    "### Step 15. Summarize all the columns"
   ]
  },
  {
   "cell_type": "code",
   "execution_count": 83,
   "metadata": {
    "id": "tdYbqpT2jZ1F"
   },
   "outputs": [
    {
     "name": "stdout",
     "output_type": "stream",
     "text": [
      "<class 'pandas.core.frame.DataFrame'>\n",
      "Index: 943 entries, 1 to 943\n",
      "Data columns (total 4 columns):\n",
      " #   Column      Non-Null Count  Dtype \n",
      "---  ------      --------------  ----- \n",
      " 0   age         943 non-null    int64 \n",
      " 1   gender      943 non-null    object\n",
      " 2   occupation  943 non-null    object\n",
      " 3   zip_code    943 non-null    object\n",
      "dtypes: int64(1), object(3)\n",
      "memory usage: 36.8+ KB\n"
     ]
    }
   ],
   "source": [
    "users.info()"
   ]
  },
  {
   "cell_type": "markdown",
   "metadata": {
    "id": "SqD55tcxjZ1G"
   },
   "source": [
    "### Step 16. Summarize only the occupation column"
   ]
  },
  {
   "cell_type": "code",
   "execution_count": 106,
   "metadata": {
    "id": "qWGXH8sQjZ1G"
   },
   "outputs": [
    {
     "name": "stdout",
     "output_type": "stream",
     "text": [
      "occupation\n",
      "student          196\n",
      "other            105\n",
      "educator          95\n",
      "administrator     79\n",
      "engineer          67\n",
      "programmer        66\n",
      "librarian         51\n",
      "writer            45\n",
      "executive         32\n",
      "scientist         31\n",
      "artist            28\n",
      "technician        27\n",
      "marketing         26\n",
      "entertainment     18\n",
      "healthcare        16\n",
      "retired           14\n",
      "lawyer            12\n",
      "salesman          12\n",
      "none               9\n",
      "homemaker          7\n",
      "doctor             7\n",
      "Name: count, dtype: int64\n",
      "count         943\n",
      "unique         21\n",
      "top       student\n",
      "freq          196\n",
      "Name: occupation, dtype: object\n"
     ]
    }
   ],
   "source": [
    "print(users['occupation'].value_counts())\n",
    "\n",
    "\n",
    "print(users['occupation'].describe())"
   ]
  },
  {
   "cell_type": "markdown",
   "metadata": {
    "id": "lTdx9ApcjZ1G"
   },
   "source": [
    "### Step 17. What is the mean age of users?\n",
    "\n",
    "(round to a whole number(make it integer))"
   ]
  },
  {
   "cell_type": "code",
   "execution_count": 87,
   "metadata": {
    "id": "pPE5WTSPjZ1G"
   },
   "outputs": [
    {
     "data": {
      "text/plain": [
       "34"
      ]
     },
     "execution_count": 87,
     "metadata": {},
     "output_type": "execute_result"
    }
   ],
   "source": [
    "round(users['age'].mean())"
   ]
  },
  {
   "cell_type": "markdown",
   "metadata": {
    "id": "RZLZjENUjZ1G"
   },
   "source": [
    "### Step 18. What is the age with least occurrence?"
   ]
  },
  {
   "cell_type": "code",
   "execution_count": 99,
   "metadata": {
    "id": "o48jZS9CjZ1I"
   },
   "outputs": [
    {
     "data": {
      "image/png": "[encoded data removed]",
      "text/plain": [
       "<Figure size 1000x600 with 1 Axes>"
      ]
     },
     "metadata": {},
     "output_type": "display_data"
    }
   ],
   "source": [
    "import matplotlib.pyplot as plt\n",
    "import seaborn as sns\n",
    "\n",
    "plt.figure(figsize=(10, 6))\n",
    "sns.histplot(data=users, x='age', binwidth=1, kde=True)\n",
    "\n",
    "plt.xticks(rotation=90)\n",
    "\n",
    "plt.title('Frequency of Ages')\n",
    "plt.xlabel('Age')\n",
    "plt.ylabel('Count')\n",
    "plt.show()\n",
    "\n",
    "\n",
    "\n",
    "value_counts().tail() 사용한게 인상 깊다!! "
   ]
  }
 ],
 "metadata": {
  "anaconda-cloud": {},
  "colab": {
   "provenance": []
  },
  "kernelspec": {
   "display_name": "Python 3 (ipykernel)",
   "language": "python",
   "name": "python3"
  },
  "language_info": {
   "codemirror_mode": {
    "name": "ipython",
    "version": 3
   },
   "file_extension": ".py",
   "mimetype": "text/x-python",
   "name": "python",
   "nbconvert_exporter": "python",
   "pygments_lexer": "ipython3",
   "version": "3.12.4"
  }
 },
 "nbformat": 4,
 "nbformat_minor": 4
}
